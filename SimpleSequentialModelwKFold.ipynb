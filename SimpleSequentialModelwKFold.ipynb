{
  "nbformat": 4,
  "nbformat_minor": 0,
  "metadata": {
    "colab": {
      "name": "SimpleSequentialModelwKFold.ipynb",
      "version": "0.3.2",
      "provenance": [],
      "collapsed_sections": [],
      "include_colab_link": true
    },
    "kernelspec": {
      "name": "python3",
      "display_name": "Python 3"
    }
  },
  "cells": [
    {
      "cell_type": "markdown",
      "metadata": {
        "id": "view-in-github",
        "colab_type": "text"
      },
      "source": [
        "<a href=\"https://colab.research.google.com/github/gcosma/DeepLearningTutorials/blob/master/SimpleSequentialModelwKFold.ipynb\" target=\"_parent\"><img src=\"https://colab.research.google.com/assets/colab-badge.svg\" alt=\"Open In Colab\"/></a>"
      ]
    },
    {
      "cell_type": "markdown",
      "metadata": {
        "id": "Qg1TmIbqdRV6",
        "colab_type": "text"
      },
      "source": [
        "**Tutorial 2: HOW TO Create your first Sequential Model in Keras: With k-fold cross validation and a confusion matrix** \n",
        "\n",
        "by Dr Georgina Cosma\n",
        "\n",
        "This tutorial is based on  \n",
        "\n",
        "https://machinelearningmastery.com/tutorial-first-neural-network-python-keras/\n",
        "\n",
        "09 August 2019"
      ]
    },
    {
      "cell_type": "markdown",
      "metadata": {
        "id": "2WAVoe6SpMZU",
        "colab_type": "text"
      },
      "source": [
        "Learning outcomes:\n",
        "* Load Data.\n",
        "* Define a Sequential model with k-fold cross validation. \n",
        "* Compile Model.\n",
        "* Evaluate Model and display confusion matrix.\n",
        "\n",
        "\n",
        "**Not using Colab?** If you are not using Colab you will need to Setup a Python Environment for \n",
        "Machine Learning and Deep Learning with Anaconda. You must have Python 2 or 3 \n",
        "installed and configured. You must install SciPy (including NumPy) and the relevant\n",
        "libraries including Keras. \n",
        "\n",
        "**Using Colab:** Some difficulties may be\n",
        "experienced with mounting, but the code and explanation here will help you overcome these. \n",
        "\n"
      ]
    },
    {
      "cell_type": "markdown",
      "metadata": {
        "id": "52Rq10MgkEOM",
        "colab_type": "text"
      },
      "source": [
        "**Step 1: Import libraries** "
      ]
    },
    {
      "cell_type": "code",
      "metadata": {
        "id": "NJYbRn_jdSBk",
        "colab_type": "code",
        "outputId": "5e0d691d-4fdd-4827-ce77-e814c49eb809",
        "colab": {
          "base_uri": "https://localhost:8080/",
          "height": 34
        }
      },
      "source": [
        "from keras.models import Sequential\n",
        "from keras.layers import Dense\n",
        "import numpy as np\n",
        "from sklearn.metrics import confusion_matrix\n",
        "from sklearn.model_selection import StratifiedKFold"
      ],
      "execution_count": 0,
      "outputs": [
        {
          "output_type": "stream",
          "text": [
            "Using TensorFlow backend.\n"
          ],
          "name": "stderr"
        }
      ]
    },
    {
      "cell_type": "markdown",
      "metadata": {
        "id": "I34xdjC4kTVk",
        "colab_type": "text"
      },
      "source": [
        "**Step 2: Mount to Google Drive in order to access your data file**"
      ]
    },
    {
      "cell_type": "code",
      "metadata": {
        "id": "vqvH4wcpkbRj",
        "colab_type": "code",
        "outputId": "87a9e814-a8e9-43fe-977c-b7bbfb8ccabe",
        "colab": {
          "base_uri": "https://localhost:8080/",
          "height": 34
        }
      },
      "source": [
        "from google.colab import drive\n",
        "drive.mount('/content/drive')\n",
        "#!ls \"/content/drive/My Drive/Colab Notebooks\"\n",
        "\n",
        "#if you need to remount\n",
        "#drive.mount(\"/content/drive\", force_remount=True)\n",
        "\n",
        "#If you want to unmount and reset then: \n",
        "#Step 1: From the menu select Runtime--->Reset all Runtimes... \n",
        "#Step 2: Runtime--->Run all or you can run each Cell at a time. There will be a message \n",
        "# \"Go to a URL in a browser\" and you must click on that and copy and paste the authorisation code \n",
        "# from the page into the authorisation code text box.\n"
      ],
      "execution_count": 0,
      "outputs": [
        {
          "output_type": "stream",
          "text": [
            "Drive already mounted at /content/drive; to attempt to forcibly remount, call drive.mount(\"/content/drive\", force_remount=True).\n"
          ],
          "name": "stdout"
        }
      ]
    },
    {
      "cell_type": "markdown",
      "metadata": {
        "id": "YmQSMpNN0hP1",
        "colab_type": "text"
      },
      "source": [
        "**Step 3: Load the dataset.**"
      ]
    },
    {
      "cell_type": "code",
      "metadata": {
        "id": "stFb9r6kkNLX",
        "colab_type": "code",
        "outputId": "746e9d97-3a0e-411b-c4df-8cbfcab42e50",
        "colab": {
          "base_uri": "https://localhost:8080/",
          "height": 136
        }
      },
      "source": [
        "# load the dataset\n",
        "dataset = np.loadtxt(\"/content/drive/My Drive/Colab Notebooks/Tutorials/TutorialData/pima.txt\", delimiter=\",\")\n",
        "print(dataset)"
      ],
      "execution_count": 0,
      "outputs": [
        {
          "output_type": "stream",
          "text": [
            "[[  6.    148.     72.    ...   0.627  50.      1.   ]\n",
            " [  1.     85.     66.    ...   0.351  31.      0.   ]\n",
            " [  8.    183.     64.    ...   0.672  32.      1.   ]\n",
            " ...\n",
            " [  5.    121.     72.    ...   0.245  30.      0.   ]\n",
            " [  1.    126.     60.    ...   0.349  47.      1.   ]\n",
            " [  1.     93.     70.    ...   0.315  23.      0.   ]]\n"
          ],
          "name": "stdout"
        }
      ]
    },
    {
      "cell_type": "markdown",
      "metadata": {
        "id": "g3utKVAwj4Iu",
        "colab_type": "text"
      },
      "source": [
        "**Step 4: Split input (X) and output (Y) variables into separate matrices.**\n",
        "\n",
        "* **Dataset contains:** \n",
        "* **Number of input variables: 8.          Columns 0 to 7**   \n",
        "* **Number of output variables: 1.        Column 8**\n",
        "\n",
        "* **Let X be the m x n feature by case matrix. In this example a case is a person's data, a.k.a. record.**\n",
        "* **Let Y be a 1 x n vector holding all the labels. One row in Y corresponds to a row in X. So every person's record is assigned a label.**\n",
        "\n",
        "**Dataset has 9 columns. Range 0:8 will select columns from 0 to 7, stopping before index 8.**"
      ]
    },
    {
      "cell_type": "code",
      "metadata": {
        "id": "RBmDJLsWk64e",
        "colab_type": "code",
        "outputId": "1b27cbe3-117f-41a9-d506-f59c175b3bc7",
        "colab": {
          "base_uri": "https://localhost:8080/",
          "height": 34
        }
      },
      "source": [
        "#Split into X and Y variables\n",
        "#Input data and labels need to be separated before training the model\n",
        "X = dataset[0:760,0:8]      #select rows 0 to 759 and columns 0 to 7. Columns 0 to 7 hold the input data.\n",
        "Y = dataset[0:760,8]        #select rows 0 to 759 and column 8. Column 8 is the last column holding all the labels.\n",
        "\n",
        "#The last 8 records for testing the model  (record 760 to 767)\n",
        "X1 = dataset[760:768,0:8]   #select rows 760 to 767 and columns 0 to 7. Columns 0 to 7 hold the input data.\n",
        "Y1 = dataset[760:768,8]     #select rows 760 to 767 and column 8. Column 8 is the last column holding all the labels.\n",
        "\n",
        "#check the size of matrix X\n",
        "#dataset.shape\n",
        "X.shape\n",
        "X1.shape\n",
        "\n",
        "#print a record of dataset X and X1. \n",
        "#print(X[759]) #print record 759\n",
        "#print(X1[0]) #print record 0"
      ],
      "execution_count": 0,
      "outputs": [
        {
          "output_type": "execute_result",
          "data": {
            "text/plain": [
              "(8, 8)"
            ]
          },
          "metadata": {
            "tags": []
          },
          "execution_count": 10
        }
      ]
    },
    {
      "cell_type": "markdown",
      "metadata": {
        "id": "GSvPiJjpoah9",
        "colab_type": "text"
      },
      "source": [
        "**Step 5: Create the Sequential model**\n",
        "A Sequential model is a linear stack of layers.\n",
        "Code for kfold was taken from https://machinelearningmastery.com/evaluate-performance-deep-learning-models-keras/\n",
        "\n",
        "fit(X,Y) is for training the model with the given inputs X (and corresponding training labels Y). Adjust the number of epochs to avoid overtraining your network.\n",
        "\n",
        "evaluate(X,Y) is for evaluating the already trained model using the training data X and the corresponding labels Y. Returns the loss value and metrics values for the model. We have trained our neural network on the entire dataset and we can evaluate the performance of the network on the same dataset. This will only give us an idea of how well we have modeled the dataset (e.g. train accuracy), but no idea of how well the algorithm might perform on new data.\n"
      ]
    },
    {
      "cell_type": "code",
      "metadata": {
        "id": "25NjmEwUk9Tt",
        "colab_type": "code",
        "outputId": "a30211f1-197b-4648-afd1-ad971dc683d5",
        "colab": {
          "base_uri": "https://localhost:8080/",
          "height": 204
        }
      },
      "source": [
        "\n",
        "# define 10-fold cross validation test harness\n",
        "#numpy.random.seed(7)\n",
        "kfold = StratifiedKFold(n_splits=10, shuffle=True, random_state=0)\n",
        "cvscores = []\n",
        "for train, test in kfold.split(X, Y):\n",
        "  # #First layer in the Sequential model\n",
        "\tmodel = Sequential()\n",
        "  #Dense(n) is a fully-connected layer with x hidden units.  \n",
        "  #In the first layer, you must specify the expected input data shape: input_dim=8 dimensional vectors.\n",
        "\n",
        "  # Line model.add(Dense(12, input_dim=8, activation='relu', name='input_layer')), does the following:\n",
        "  #defines the input layer as having 8 inputs.\n",
        "  #defines a hidden layer with 12 neurons, connected to the input layer that use relu activation function.\n",
        "  #initializes all weights using a sample of uniform random numbers.\n",
        "\tmodel.add(Dense(12, input_dim=8, activation='relu'))\n",
        "  # now the model will take as input arrays of shape (*, 8)\n",
        "  # and output arrays of shape (*, 12)\n",
        "\n",
        "  # after the first layer, you don't need to specify\n",
        "  # the size of the input anymore.\n",
        "\tmodel.add(Dense(8, activation='relu'))\n",
        "\tmodel.add(Dense(1, activation='sigmoid'))\n",
        "\t# Compile model: Compile defines the loss function, the optimizer and the metrics.\n",
        "\tmodel.compile(loss='binary_crossentropy', optimizer='adam', metrics=['accuracy'])\n",
        "\t# Fit the model: Fit the model. fit(X,Y) is for training the model with the given inputs X \n",
        "  # (and corresponding training labels Y). Adjust the number of epochs to avoid overtraining your network.\n",
        "\tmodel.fit(X[train], Y[train], epochs=150, batch_size=10, verbose=0)\n",
        "\t# evaluate the model\n",
        "\tscores = model.evaluate(X[test], Y[test], verbose=0)\n",
        "\tprint(\"%s: %.2f%%\" % (model.metrics_names[1], scores[1]*100))\n",
        "\tcvscores.append(scores[1] * 100)\n",
        "print(\"%.2f%% (+/- %.2f%%)\" % (np.mean(cvscores), np.std(cvscores)))"
      ],
      "execution_count": 0,
      "outputs": [
        {
          "output_type": "stream",
          "text": [
            "acc: 64.94%\n",
            "acc: 81.82%\n",
            "acc: 72.73%\n",
            "acc: 66.23%\n",
            "acc: 64.47%\n",
            "acc: 78.95%\n",
            "acc: 65.33%\n",
            "acc: 78.67%\n",
            "acc: 70.67%\n",
            "acc: 65.33%\n",
            "70.91% (+/- 6.39%)\n"
          ],
          "name": "stdout"
        }
      ]
    },
    {
      "cell_type": "markdown",
      "metadata": {
        "id": "B4Fq-g2qpsb2",
        "colab_type": "text"
      },
      "source": [
        "**Step 6: Predict on previously unseen data. The predict(X1) method is used for making the actual prediction using the trained model. It generates output predictions for the input samples in X1. Here we are using the predict(X1) function predict the labels of dataset X1 (test dataset).**"
      ]
    },
    {
      "cell_type": "code",
      "metadata": {
        "id": "hdoCBfuiqRkV",
        "colab_type": "code",
        "outputId": "fdca990f-2d3b-458f-e624-52e31dc1d60f",
        "colab": {
          "base_uri": "https://localhost:8080/",
          "height": 51
        }
      },
      "source": [
        "# calculate predictions\n",
        "#X1 data was not used to train or validate the model. Here we test the model using new data, X1. \n",
        "predictions = model.predict(X1)\n",
        "# round predictions\n",
        "rounded = [round(x1[0]) for x1 in predictions]\n",
        "print(rounded)\n",
        "\n",
        "#Simple confusion matrix using sklearn.metrics \n",
        "results = confusion_matrix(Y1, rounded)\n",
        "print(results)"
      ],
      "execution_count": 0,
      "outputs": [
        {
          "output_type": "stream",
          "text": [
            "[0.0, 0.0, 0.0, 0.0, 0.0, 0.0, 0.0, 0.0]\n",
            "({0.0, 1.0}, [[6, 2], [0, 0]])\n"
          ],
          "name": "stdout"
        }
      ]
    },
    {
      "cell_type": "markdown",
      "metadata": {
        "id": "Ex7PINigW1Og",
        "colab_type": "text"
      },
      "source": [
        "**Here is the code for creating your own confusion matrix.**\n",
        "The code was taken from https://machinelearningmastery.com/implement-machine-learning-algorithm-performance-metrics-scratch-python/"
      ]
    },
    {
      "cell_type": "code",
      "metadata": {
        "id": "5WNKvD8bWz-5",
        "colab_type": "code",
        "colab": {}
      },
      "source": [
        "# Example of Calculating and Displaying a better looking Confusion Matrix\n",
        "\n",
        "#def defines a function for calculating the confusion matrix\n",
        "# calculate a confusion matrix\n",
        "def confusion_matrix(actual, predicted):\n",
        "\tunique = set(actual)\n",
        "\tmatrix = [list() for x in range(len(unique))]\n",
        "\tfor i in range(len(unique)):\n",
        "\t\tmatrix[i] = [0 for x in range(len(unique))]\n",
        "\tlookup = dict()\n",
        "\tfor i, value in enumerate(unique):\n",
        "\t\tlookup[value] = i\n",
        "\tfor i in range(len(actual)):\n",
        "\t\tx = lookup[actual[i]]\n",
        "\t\ty = lookup[predicted[i]]\n",
        "\t\tmatrix[y][x] += 1\n",
        "\treturn unique, matrix\n",
        " \n",
        "# pretty print a confusion matrix\n",
        "def print_confusion_matrix(unique, matrix):\n",
        "\tprint('(A)' + ' '.join(str(x) for x in unique))\n",
        "\tprint('(P)-------')\n",
        "\tfor i, x in enumerate(unique):\n",
        "\t\tprint(\"%s| %s\" % (x, ' '.join(str(x) for x in matrix[i])))\n",
        " "
      ],
      "execution_count": 0,
      "outputs": []
    },
    {
      "cell_type": "markdown",
      "metadata": {
        "id": "wF97weplXI6w",
        "colab_type": "text"
      },
      "source": [
        " **Step 7: Use the confusion_matrix function to print confusion matrices for the  Predict step (Step 9). X1 has  8 records.**"
      ]
    },
    {
      "cell_type": "code",
      "metadata": {
        "id": "Mn8BrvxQXG2_",
        "colab_type": "code",
        "outputId": "539387c2-bcf5-4ef8-b637-2757410f096d",
        "colab": {
          "base_uri": "https://localhost:8080/",
          "height": 85
        }
      },
      "source": [
        "# Test confusion matrix for the Evaluate results\n",
        "unique, matrix = confusion_matrix(Y1, rounded)\n",
        "print_confusion_matrix(unique, matrix)\n",
        "\n"
      ],
      "execution_count": 0,
      "outputs": [
        {
          "output_type": "stream",
          "text": [
            "(A)0.0 1.0\n",
            "(P)-------\n",
            "0.0| 6 2\n",
            "1.0| 0 0\n"
          ],
          "name": "stdout"
        }
      ]
    },
    {
      "cell_type": "code",
      "metadata": {
        "id": "1qj6zFGLlENM",
        "colab_type": "code",
        "outputId": "47bb24dc-d26c-45fc-ecab-42b90f02f701",
        "colab": {
          "base_uri": "https://localhost:8080/",
          "height": 255
        }
      },
      "source": [
        "# Print the Sequential model structure\n",
        "print(model.summary())"
      ],
      "execution_count": 0,
      "outputs": [
        {
          "output_type": "stream",
          "text": [
            "_________________________________________________________________\n",
            "Layer (type)                 Output Shape              Param #   \n",
            "=================================================================\n",
            "dense_79 (Dense)             (None, 12)                108       \n",
            "_________________________________________________________________\n",
            "dense_80 (Dense)             (None, 8)                 104       \n",
            "_________________________________________________________________\n",
            "dense_81 (Dense)             (None, 1)                 9         \n",
            "=================================================================\n",
            "Total params: 221\n",
            "Trainable params: 221\n",
            "Non-trainable params: 0\n",
            "_________________________________________________________________\n",
            "None\n"
          ],
          "name": "stdout"
        }
      ]
    },
    {
      "cell_type": "markdown",
      "metadata": {
        "id": "1jOK1cJbxBlU",
        "colab_type": "text"
      },
      "source": [
        "**Step 8: How to install the GraphViz Library  http://www.graphviz.org/**\n",
        "\n"
      ]
    },
    {
      "cell_type": "code",
      "metadata": {
        "id": "VPlJouVfpcIX",
        "colab_type": "code",
        "colab": {}
      },
      "source": [
        "#!pip install -q pydot\n",
        "from keras.utils.vis_utils import plot_model\n",
        "#Prints the model to a file in the directory\n",
        "plot_model(model, to_file='/content/drive/My Drive/Colab Notebooks/Tutorials/model_plot3.png', show_shapes=True, show_layer_names=True)"
      ],
      "execution_count": 0,
      "outputs": []
    },
    {
      "cell_type": "markdown",
      "metadata": {
        "id": "FACsq3Oh_xDD",
        "colab_type": "text"
      },
      "source": [
        "**Further Reading:**\n",
        "About Colab: https://www.youtube.com/watch?v=inN8seMm7UI\n",
        "\n",
        "**Examples to run (These are not in Colab):**\n",
        "There are excellent examples in https://machinelearningmastery.com/tutorial-first-neural-network-python-keras/\n",
        "\n",
        "https://keras.io/getting-started/sequential-model-guide/#examples\n",
        "\n",
        "In the examples, you will also find example models for benchmark datasets:\n",
        "\n",
        "* CIFAR10 small images classification: Convolutional Neural Network (CNN) with realtime data augmentation\n",
        "\n",
        "* IMDB movie review sentiment classification: LSTM over sequences of words\n",
        "Reuters newswires topic classification: Multilayer Perceptron (MLP)\n",
        "\n",
        "* MNIST handwritten digits classification: MLP & CNN\n",
        "Character-level text generation with LSTM\n",
        "\n",
        "\n",
        "\n",
        "\n",
        "** *Many thanks to Jason Brownlee for providing excellent tutorials for machine learning and for providing permission to publish this tutorial. This tutorial is based on Jason Brownlee's Machine Learning Mastery tutorials https://machinelearningmastery.com   The website contains tutorials for Machine Learning.* ** \n",
        "\n"
      ]
    }
  ]
}